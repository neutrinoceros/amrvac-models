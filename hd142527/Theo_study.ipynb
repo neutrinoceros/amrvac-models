{
 "cells": [
  {
   "cell_type": "markdown",
   "metadata": {},
   "source": [
    "# Theoretical analysis of the model\n",
    "\n",
    "this is a WIP, translation from a python script (`diagnotic.py`)"
   ]
  },
  {
   "cell_type": "code",
   "execution_count": 1,
   "metadata": {},
   "outputs": [],
   "source": [
    "from os import mkdir, remove\n",
    "from pathlib import Path\n",
    "\n",
    "import matplotlib.pyplot as plt\n",
    "import numpy as np\n",
    "import sympy as sp\n",
    "import seaborn as sns\n",
    "\n",
    "plt.style.use(\"seaborn\")\n",
    "sns.set_style(\"ticks\")\n",
    "sns.set_context(\"talk\")"
   ]
  },
  {
   "cell_type": "code",
   "execution_count": 2,
   "metadata": {},
   "outputs": [],
   "source": [
    "from tests.test_disk_physics import r, r_range, my_model, my_model_prime,\\\n",
    "    ref_length, sample0, sample1, conf, usr, DTDisk, evaluate_disk_mass_ratio,\\\n",
    "    get_flaring"
   ]
  },
  {
   "cell_type": "code",
   "execution_count": 3,
   "metadata": {},
   "outputs": [],
   "source": [
    "rep_out = Path(\"img\").resolve()\n",
    "if not rep_out.is_dir():\n",
    "    mkdir(rep_out)\n",
    "\n",
    "def save(fig, name:str):\n",
    "    for ext in (\"png\", \"pdf\"):\n",
    "        fig.savefig(rep_out/f\"{name}.{ext}\", bbox_inches=\"tight\")"
   ]
  },
  {
   "cell_type": "markdown",
   "metadata": {},
   "source": [
    "## definitions"
   ]
  },
  {
   "cell_type": "code",
   "execution_count": 4,
   "metadata": {},
   "outputs": [],
   "source": [
    "center = my_model.get_value('r0')\n",
    "sig = my_model.get_value('sig')\n",
    "\n",
    "def eval_sample(f, sampler):\n",
    "    r = sp.symbols('r')\n",
    "    return np.array(list(map(lambda x: f.subs(r,x), sampler)))\n",
    "\n",
    "def map_functions(functions:dict, sampler:list):\n",
    "    ys = {}\n",
    "    for k, func in functions.items():\n",
    "        ys.update(\n",
    "            { k : eval_sample(func, sampler) }\n",
    "        )\n",
    "    return ys"
   ]
  },
  {
   "cell_type": "code",
   "execution_count": 5,
   "metadata": {},
   "outputs": [],
   "source": [
    "def local_upper_particle_size(model, R):\n",
    "    '''Return maximum particle size for \\rho_p = 1g/cm^3 at given radial position R.'''\n",
    "    rho = model.midplane_volumic_density\n",
    "    cs  = model.sound_speed\n",
    "    OmK = model.keplerian_angular_velocity\n",
    "    ups = (cs * rho / OmK).subs(DTDisk.r,R) * sp.sqrt(2/sp.pi) / model.values[DTDisk.rhop]\n",
    "    return ups.evalf()\n",
    "\n",
    "def global_upper_particle_size(model, r_range):\n",
    "    #In practice, often useless because for most models, the minimal\n",
    "    #value of this function is given at either one of the boundaries.\n",
    "    ups = 1.0\n",
    "    for r in r_range:\n",
    "        ups = min(ups, local_upper_particle_size(model, r))\n",
    "    return ups"
   ]
  },
  {
   "cell_type": "code",
   "execution_count": 6,
   "metadata": {},
   "outputs": [],
   "source": [
    "#This mess is hard to understand and should be refactored\n",
    "fs0 = {\n",
    "    'rayleigh': my_model.rayleigh_function,\n",
    "    'density' : my_model.surface_density,\n",
    "    'omega'   : my_model.angular_velocity,\n",
    "}\n",
    "ys0 = map_functions(fs0, sample0)\n",
    "\n",
    "fs1 = {\n",
    "    'lovelace' : my_model.lovelace_function,\n",
    "    'dlovelace': my_model.lovelace_function.diff(r),\n",
    "}\n",
    "ys1 = map_functions(fs1, sample1)"
   ]
  },
  {
   "cell_type": "markdown",
   "metadata": {},
   "source": [
    "## Quick physical diagnostics of the model"
   ]
  },
  {
   "cell_type": "code",
   "execution_count": 7,
   "metadata": {},
   "outputs": [],
   "source": [
    "def mess(desc:str, val:float, crit:bool) -> str:\n",
    "    res = {True: \"OK\", False: \"KO\"}\n",
    "    return desc.ljust(40) + f\"{val:.3e}\".ljust(20) + res[crit]\n",
    "\n",
    "disk_mass = evaluate_disk_mass_ratio(conf, my_model_prime)\n",
    "Q = my_model.toomre_number.subs(r,center+sig).evalf(3)\n",
    "flare = get_flaring(my_model.values[DTDisk.slope], my_model.values[DTDisk.gamma])\n",
    "\n",
    "print(\"Desc                                    val                 crit\")\n",
    "print(\"----------------------------------------------------------------\")\n",
    "print(mess(\"early disk/star mass ratio\", disk_mass, disk_mass<0.04))\n",
    "print(mess(\"typical Toomre's Q\", Q, Q>1))\n",
    "print(mess(\"effective flaring index\", flare, flare < 1.0))"
   ]
  },
  {
   "cell_type": "markdown",
   "metadata": {},
   "source": [
    "## Density profile"
   ]
  },
  {
   "cell_type": "code",
   "execution_count": 8,
   "metadata": {},
   "outputs": [],
   "source": [
    "fig, ax = plt.subplots(num=1)\n",
    "\n",
    "ax.plot(sample0, ys0['density']/conf['disk_list']['rho0'])\n",
    "ax.set_ylabel(r'$\\rho/\\rho_0$')\n",
    "ax.set_xlabel(r'$r$ /100 a.u.')\n",
    "\n",
    "save(fig, \"rho_init\")\n",
    "plt.show()"
   ]
  },
  {
   "cell_type": "markdown",
   "metadata": {},
   "source": [
    "## Rayleigh stability (if 'rayleigh' function is >0)"
   ]
  },
  {
   "cell_type": "code",
   "execution_count": 9,
   "metadata": {},
   "outputs": [],
   "source": [
    "fig, ax = plt.subplots(num=2)\n",
    "ax.plot(sample0, ys0['rayleigh'])\n",
    "ax.set_ylabel(r'$\\partial_r (r^2\\Omega)$')\n",
    "\n",
    "ylims = ax.get_ylim()\n",
    "ax.set_ylim(min(0, ylims[0]), ylims[1])\n",
    "\n",
    "\n",
    "ylims = ax.get_ylim()\n",
    "ax.plot(usr['cavity_radius']*np.ones(2), np.linspace(*ylims, 2), ls=':', c='k')\n",
    "ax.set_ylim(*ylims)\n",
    "ax.text(x=center*1.05, y=6, s=r\"$r_b$\")\n",
    "\n",
    "ax.set_xlabel(r'$r$ /100 a.u.')\n",
    "save(fig, name=\"rayleigh_stable\")\n",
    "plt.show()"
   ]
  },
  {
   "cell_type": "markdown",
   "metadata": {},
   "source": [
    "## RWI instability (if there's an extremum in Lovelace function)"
   ]
  },
  {
   "cell_type": "code",
   "execution_count": 10,
   "metadata": {},
   "outputs": [],
   "source": [
    "fig, ax = plt.subplots(num=3)\n",
    "\n",
    "ax.plot(sample1, ys1['lovelace'], color=\"C0\")\n",
    "ax.tick_params(axis='y', colors=\"C0\")\n",
    "\n",
    "axt = ax.twinx()\n",
    "axt.plot(sample1, ys1['dlovelace'], ls='--', color=\"C2\")\n",
    "axt.tick_params(axis='y', colors='C2')\n",
    "ax.set_ylabel(r'$L(r)$')\n",
    "axt.set_ylabel(r'$\\partial_r L(r)$')\n",
    "\n",
    "\n",
    "#mark the cavity location and add legends\n",
    "ylims = ax.get_ylim()\n",
    "ax.plot(usr['cavity_radius']*np.ones(2), np.linspace(*ylims, 2), ls=':', c='k')\n",
    "ax.text(x=usr['cavity_radius']*0.98, y=0.1, s=r\"$r_b$\")\n",
    "\n",
    "ax.set_ylim(*ylims)\n",
    "ax.set_xlabel(r'$r$ /100 a.u.')\n",
    "\n",
    "\n",
    "save(fig, name=\"lovelace_unstable\")\n",
    "plt.show()"
   ]
  },
  {
   "cell_type": "markdown",
   "metadata": {},
   "source": [
    "## Hersant's criterion for Stokes numbers"
   ]
  },
  {
   "cell_type": "code",
   "execution_count": 11,
   "metadata": {},
   "outputs": [],
   "source": [
    "fig,ax = plt.subplots(num=4)\n",
    "\n",
    "\n",
    "lups = np.zeros(len(r_range))\n",
    "for i,rad in enumerate(r_range):\n",
    "    lups[i] = local_upper_particle_size(my_model, rad)\n",
    "ax.plot(r_range, lups)\n",
    "ax.set_yscale('log')\n",
    "ax.set_xlabel(r'$r$ /100 a.u.')\n",
    "ax.set_ylabel('$s_{p,max}$ (code units)')\n",
    "\n",
    "\n",
    "#ax.set_xlim(*xlims)\n",
    "ylims = ax.get_ylim()\n",
    "ax.fill_between(r_range, ylims[1]*np.ones(len(lups)), lups, facecolor='red', alpha=0.2)\n",
    "ax.set_ylim(*ylims)\n",
    "ax.set_xlim(r_range.min(), r_range.max())\n",
    "\n",
    "#twin axis with physical unit\n",
    "axb = ax.twinx()\n",
    "axb.set_yscale('log')\n",
    "axb.set_ylabel('$s_{p,max}$/cm')\n",
    "\n",
    "\n",
    "# correct ylims\n",
    "ylims_base = np.array(ax.get_ylim()) * ref_length\n",
    "ylims_phys = axb.get_ylim()\n",
    "my_ylims_phys = np.array([min(ylims_base[0], ylims_phys[0]), max(ylims_base[1], ylims_phys[1])])\n",
    "axb.set_ylim(*my_ylims_phys)\n",
    "ax.set_ylim(*(my_ylims_phys /ref_length))\n",
    "\n",
    "#add lines where actual grains are used\n",
    "xlims = ax.get_xlim()\n",
    "#for grain_size in conf[\"usr_dust_list\"][\"grain_size_cm\"]:\n",
    "axb.plot(np.linspace(*xlims, 2), max(conf[\"usr_dust_list\"][\"grain_size_cm\"])*np.ones(2), ls=':', c='k')\n",
    "\n",
    "\n",
    "# title\n",
    "xlim = ax.get_xlim()\n",
    "ylim = ax.get_ylim()\n",
    "\n",
    "val = '%.1f' % conf['usr_dust_list']['grain_density_gcm3']\n",
    "ax.text(x=3.2, y=1e-11, s=r\"$\\rho_p=$\"+val+r\"g/cm$^3$\")\n",
    "\n",
    "ax.plot(usr['cavity_radius']*np.ones(2), np.linspace(*ylims, 2), ls=':', c='k')\n",
    "ax.text(x=usr['cavity_radius']*1.1, y=1e-11, s=r\"$r_b$\")\n",
    "\n",
    "save(fig, name=\"hersant_max_grain_size\")\n",
    "plt.show()\n",
    "\n",
    "spmax = local_upper_particle_size(my_model, usr['cavity_radius'])\n",
    "print(f'maximum grain size at cavity radius {spmax} (code units)')"
   ]
  },
  {
   "cell_type": "markdown",
   "metadata": {},
   "source": [
    "# Initial Stokes numbers (and Hersant criterion)\n",
    "\n",
    "this is a display of the same information as the previous graph, only in a different view"
   ]
  },
  {
   "cell_type": "code",
   "execution_count": 12,
   "metadata": {},
   "outputs": [],
   "source": [
    "fig,ax = plt.subplots(num=4)\n",
    "#fig.suptitle(r'''Initial Stokes number VS (Hersant 2009) criterion.\n",
    "#the $2\\sigma$ wide region around the bump is displayed''')\n",
    "\n",
    "sizes = conf['usr_dust_list']['grain_size_cm']\n",
    "if isinstance(sizes, float): sizes = [sizes]\n",
    "\n",
    "styles = [dict(lw=2.5, ls='-'), dict(lw=2, ls='-'), dict(lw=2.5, ls='--'), dict(lw=2, ls='--')]\n",
    "for grain_size, style in zip(sizes, styles):\n",
    "    St = np.zeros(len(r_range))\n",
    "    my_model.values[DTDisk.sp] = grain_size / ref_length\n",
    "    for i,rv in enumerate(r_range):\n",
    "        St[i] = my_model.stokes_number.subs(r, rv)\n",
    "    ax.plot(r_range, St, label=f'$s_p={grain_size}$cm', **style)\n",
    "ax.set_yscale('log')\n",
    "ax.plot(r_range, 0.5*np.ones(len(r_range)), color='k', ls=':')\n",
    "\n",
    "ylims = ax.get_ylim()\n",
    "ax.fill_between(\n",
    "    r_range,\n",
    "    ylims[1]*np.ones(len(r_range)),\n",
    "    0.5*np.ones(len(r_range)),\n",
    "    alpha=0.2,\n",
    "    facecolor='red'\n",
    ")\n",
    "\n",
    "\n",
    "# Annotate the cavity transition region within 4 sigma\n",
    "asymp = dict(ls=':', c='k')\n",
    "#ax.plot(r_range, r_range/r_range*0.5, **asymp)\n",
    "sigmm = (center-2*sig)\n",
    "#sigpp = (center+3*sig/2)\n",
    "sigpp = center+2*sig\n",
    "ax.plot(sigmm*np.ones(2), np.array(ylims), **asymp)\n",
    "ax.plot(sigpp*np.ones(2), np.array(ylims), **asymp)\n",
    "\n",
    "ax.annotate(s=r'', xy=(sigmm,5e-2), xytext=(sigpp,5e-2),\n",
    "            arrowprops=dict(arrowstyle='<->', shrinkA=0, shrinkB=0, color=\"black\"))\n",
    "ax.text(x=0.9*center, y=1e-1, s=r'$4\\sigma_b$', size=20)#, xy=(center, 1.2))\n",
    "\n",
    "\n",
    "ax.set_xlabel(r'$r$ /100 a.u.')\n",
    "\n",
    "ax.set_ylabel(r'$\\mathrm{St}$')\n",
    "ax.set_ylim(ylims)\n",
    "ax.set_xlim(r_range.min(), r_range.max())\n",
    "ax.legend(ncol=2, loc=\"upper right\", frameon=True, fontsize=12)\n",
    "\n",
    "save(fig, name=\"init_St\")\n",
    "plt.show()"
   ]
  },
  {
   "cell_type": "markdown",
   "metadata": {},
   "source": [
    "## Toomre (self gravity)"
   ]
  },
  {
   "cell_type": "code",
   "execution_count": 13,
   "metadata": {},
   "outputs": [],
   "source": [
    "fig,ax = plt.subplots(num=5)\n",
    "#fig.suptitle('Initial Toomre number $Q$ (SGI excpected where $Q < 1$)')\n",
    "\n",
    "Q = np.zeros(len(r_range))\n",
    "for i,rv in enumerate(r_range):\n",
    "    Q[i] = my_model.toomre_number.subs(r, rv)\n",
    "ax.plot(r_range, Q, label='$Q$ model')\n",
    "ax.set_yscale('log')\n",
    "ylims = ax.get_ylim()\n",
    "ax.set_xlabel(r'$r$ /100 a.u.')\n",
    "ax.set_ylabel(r'$Q$')\n",
    "\n",
    "ylims = list(ax.get_ylim())\n",
    "ylims[0] = 1e-1\n",
    "ax.fill_between(r_range, np.ones(len(r_range)), ylims[0]*np.ones(len(r_range)), alpha=0.2, facecolor='red')\n",
    "ax.set_ylim(*ylims)\n",
    "ax.set_xlim(r_range[0], r_range[-1])\n",
    "\n",
    "save(fig, name=\"init_toomre\")\n",
    "plt.show()"
   ]
  },
  {
   "cell_type": "code",
   "execution_count": 14,
   "metadata": {},
   "outputs": [],
   "source": [
    "## Frequencies (rotational, epicyclic)\n",
    "\n",
    "fig, ax = plt.subplots(num=6)\n",
    "\n",
    "omega = np.zeros(len(r_range))\n",
    "kappa = np.zeros(len(r_range))\n",
    "for i,rv in enumerate(r_range):\n",
    "    omega[i] = my_model.angular_velocity.subs(r, rv)\n",
    "    kappa[i] = my_model.epicyclic_frequency.subs(r, rv)\n",
    "ax.plot(r_range, omega, ls='--', lw=0)#skip a color\n",
    "ax.plot(r_range, omega, ls='--', label=r'$\\Omega$')\n",
    "ax.plot(r_range, kappa, ls='--', label=r'$\\kappa$')\n",
    "ax.set_ylabel('frequency')\n",
    "ax.legend()\n",
    "\n",
    "ax.set_xlabel(r'$r$ /100 a.u.')\n",
    "\n",
    "plt.show()\n",
    "save(fig, name=\"init_rot_freq\")\n"
   ]
  },
  {
   "cell_type": "markdown",
   "metadata": {},
   "source": [
    "## Reynolds numbers (dust)"
   ]
  },
  {
   "cell_type": "code",
   "execution_count": 15,
   "metadata": {},
   "outputs": [],
   "source": [
    "fig,ax = plt.subplots(num=3)\n",
    "ax.plot(\n",
    "    r_range,\n",
    "    abs(eval_sample(my_model.dust_reynolds, r_range))\n",
    ")\n",
    "\n",
    "ax.set_xlabel(r'$r$ /100 a.u.')\n",
    "ax.set_yscale('log')\n",
    "plt.show()"
   ]
  },
  {
   "cell_type": "code",
   "execution_count": null,
   "metadata": {},
   "outputs": [],
   "source": []
  }
 ],
 "metadata": {
  "kernelspec": {
   "display_name": "Python 3",
   "language": "python",
   "name": "python3"
  },
  "language_info": {
   "codemirror_mode": {
    "name": "ipython",
    "version": 3
   },
   "file_extension": ".py",
   "mimetype": "text/x-python",
   "name": "python",
   "nbconvert_exporter": "python",
   "pygments_lexer": "ipython3",
   "version": "3.7.2"
  }
 },
 "nbformat": 4,
 "nbformat_minor": 2
}
